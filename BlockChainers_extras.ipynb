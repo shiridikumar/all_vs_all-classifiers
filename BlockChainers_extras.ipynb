{
  "nbformat": 4,
  "nbformat_minor": 0,
  "metadata": {
    "colab": {
      "provenance": [],
      "collapsed_sections": [
        "rt5TwfliWh1v"
      ]
    },
    "kernelspec": {
      "name": "python3",
      "display_name": "Python 3"
    },
    "language_info": {
      "name": "python"
    }
  },
  "cells": [
    {
      "cell_type": "markdown",
      "source": [
        "## ***Imports***"
      ],
      "metadata": {
        "id": "gczoiXSkfn35"
      }
    },
    {
      "cell_type": "code",
      "execution_count": 99,
      "metadata": {
        "id": "oZO-Qzswxaa0"
      },
      "outputs": [],
      "source": [
        "import sklearn\n",
        "import pandas as pd\n",
        "from sklearn import preprocessing\n",
        "from sklearn import svm\n",
        "from sklearn.svm import LinearSVC\n",
        "from sklearn.model_selection import train_test_split\n",
        "from sklearn.metrics import classification_report\n",
        "from itertools import combinations\n",
        "from sklearn import metrics\n",
        "from sklearn.neighbors import KNeighborsClassifier\n",
        "import numpy as np\n",
        "from sklearn.multiclass import OneVsOneClassifier\n",
        "from itertools import cycle\n",
        "\n",
        "from scipy import stats as st\n",
        "from sklearn.preprocessing import MinMaxScaler\n",
        "from sklearn import tree\n",
        "from imblearn.over_sampling import SMOTE\n",
        "from sklearn.linear_model import LogisticRegression\n",
        "from sklearn.ensemble import RandomForestClassifier\n",
        "from sklearn.metrics import confusion_matrix\n",
        "import math\n",
        "from sklearn.preprocessing import label_binarize\n",
        "from sklearn.decomposition import PCA\n",
        "import matplotlib.pyplot as plt\n",
        "import seaborn as sns\n",
        "import warnings\n",
        "from sklearn.metrics import roc_curve, auc\n",
        "sns.set()\n",
        "warnings.filterwarnings(\"ignore\")"
      ]
    },
    {
      "cell_type": "markdown",
      "source": [
        "##***Utility functions***"
      ],
      "metadata": {
        "id": "wkOLSxsjYFDY"
      }
    },
    {
      "cell_type": "code",
      "source": [
        "def preprocess(data):\n",
        "  le1 = preprocessing.LabelEncoder()\n",
        "  le1.fit(data[\"Island\"])\n",
        "\n",
        "  le2=preprocessing.LabelEncoder()\n",
        "  le2.fit(data[\"Clutch Completion\"])\n",
        "\n",
        "  le3=preprocessing.LabelEncoder()\n",
        "  le3.fit(data[\"Sex\"])\n",
        "\n",
        "  le4=preprocessing.LabelEncoder()\n",
        "  le4.fit(data[\"Species\"])\n",
        "\n",
        "  return (le1,le2,le3,le4)\n",
        "\n",
        "\n",
        "def test_nan(df):\n",
        "  null_vals=[]\n",
        "  nulls=df.isnull()\n",
        "  for i in range(len(nulls)):\n",
        "    for j in range(len(nulls.iloc[i,:])):\n",
        "      if(nulls.iloc[i,j]):\n",
        "        null_vals.append((i,j))\n",
        "  return null_vals\n",
        "\n",
        "\n",
        "def replace_nan(data,null_vals,discrete):\n",
        "  for i in null_vals:\n",
        "    if(i[1] in discrete):\n",
        "      mode=data[data.columns[i[1]]].mode()[0]\n",
        "      data.iloc[i[0],i[1]]=mode\n",
        "    else:\n",
        "      mean=data[data.columns[i[1]]].mean()\n",
        "      data.iloc[i[0],i[1]]=mean\n",
        "  return data\n",
        "\n",
        "\n",
        "def accuracy(pred,actual):\n",
        "  accu=0\n",
        "  for i in range(len(pred)):\n",
        "    accu+=(pred[i]==actual[i])\n",
        "  # print(accu/len(ytest))\n",
        "  return accu/len(ytest)\n",
        "\n",
        "def normalize_attributes(columns,df):\n",
        "  scalers=[]\n",
        "  scaler = MinMaxScaler()\n",
        "  scaler.fit(df.iloc[:,columns])\n",
        "  vals=scaler.transform(df.iloc[:,columns])\n",
        "  df.iloc[:,columns]=vals\n",
        "  return (scaler,vals)\n",
        "\n",
        "def voting(predictions):\n",
        "  predictions=np.array(predictions)\n",
        "  predictions=predictions.transpose()\n",
        "  preds=[]\n",
        "  for i in predictions:\n",
        "    preds.append(st.mode(i)[0][0])\n",
        "  return preds\n",
        "\n",
        "def preprocess_test_data(df,le1,le2,le3,le4):\n",
        "  df[\"Island\"]=le1.transform(df[\"Island\"])\n",
        "  df[\"Clutch Completion\"]=le2.transform(df[\"Clutch Completion\"])\n",
        "  df[\"Sex\"]=le3.transform(df[\"Sex\"])\n",
        "  return df\n",
        "\n",
        "def feature_engineering(testdf,le1,le2,le3,le4,scaler1,scaler2,pca,scaled):  \n",
        "  testdf=preprocess_test_data(testdf,le1,le2,le3,le4)\n",
        "  testdf.iloc[:,scaled]=scaler1.transform(testdf.iloc[:,scaled])\n",
        "  xtest=testdf.iloc[:,:].values\n",
        "  pcom=pca.transform(testdf.iloc[:,:])\n",
        "  principalDf = pd.DataFrame(data = pcom,  columns = ['principal component {}'.format(i+1) for i in range(n_components)])\n",
        "  testdf=principalDf\n",
        "  testdf.iloc[:,:]=scaler2.transform(testdf.iloc[:,:])\n",
        "  xtest=testdf.iloc[:,:].values\n",
        "  return testdf"
      ],
      "metadata": {
        "id": "8mu5FnGEYDPL"
      },
      "execution_count": 58,
      "outputs": []
    },
    {
      "cell_type": "markdown",
      "source": [
        "## **Pre processing**"
      ],
      "metadata": {
        "id": "Lxl9XLDKfskt"
      }
    },
    {
      "cell_type": "code",
      "source": [
        "df=pd.read_csv(\"penguins_train.csv\")\n",
        "cols=list(df.columns)\n",
        "discrete=[cols.index(\"Island\"),cols.index(\"Clutch Completion\"),cols.index(\"Sex\"),cols.index(\"Species\")]\n",
        "null_vals=test_nan(df)\n",
        "df=replace_nan(df,null_vals,discrete)\n",
        "null_vals=test_nan(df)\n",
        "for i in range(len(df)):\n",
        "  if(df.iloc[i,cols.index(\"Sex\")]==\".\"):\n",
        "    df.drop([i],inplace=True)\n",
        "    break\n",
        "le1,le2,le3,le4=preprocess(df)\n"
      ],
      "metadata": {
        "id": "Y2TjpX0czDjI"
      },
      "execution_count": 59,
      "outputs": []
    },
    {
      "cell_type": "markdown",
      "source": [
        "## ***All vs All***"
      ],
      "metadata": {
        "id": "4u5UIQMMfz1H"
      }
    },
    {
      "cell_type": "code",
      "source": [
        "df = df.sample(frac=1).reset_index(drop=True)\n",
        "X_train, X_test, y_train, y_test = train_test_split(df.iloc[:,:-1].values,df.iloc[:,-1:].values,test_size=0.3,random_state=1)\n",
        "train=pd.DataFrame(X_train,columns=cols[:-1])\n",
        "train[\"Island\"]=le1.transform(train[\"Island\"])\n",
        "train[\"Clutch Completion\"]=le2.transform(train[\"Clutch Completion\"])\n",
        "train[\"Sex\"]=le3.transform(train[\"Sex\"])\n",
        "train[cols[-1]]=y_train\n",
        "train[\"Species\"]=le4.transform(train[\"Species\"])\n",
        "xtrain=train.iloc[:,:-1].values\n",
        "ytrain=train.iloc[:,-1].values\n",
        "print(train[\"Species\"].value_counts())\n",
        "print(le4.inverse_transform([0,2,1]))\n",
        "oversample = SMOTE()\n",
        "x, y = oversample.fit_resample(xtrain, ytrain)\n",
        "train=pd.DataFrame(x,columns=cols[:-1])\n",
        "train[cols[-1]]=y\n",
        "\n",
        "scaled=[cols.index(\"Culmen Length (mm)\"),cols.index(\"Culmen Depth (mm)\"),cols.index(\"Flipper Length (mm)\"),cols.index(\"Body Mass (g)\"),cols.index(\"Delta 15 N (o/oo)\"),cols.index(\"Delta 13 C (o/oo)\")]\n",
        "scaler1,vals=normalize_attributes(scaled,train)\n",
        "train.iloc[:,scaled]=vals\n",
        "xtrain=train.iloc[:,:-1].values\n",
        "ytrain=train.iloc[:,-1].values\n",
        "\n",
        "n_components=5\n",
        "pca = PCA(n_components=n_components)\n",
        "principalComponents = pca.fit_transform(xtrain)\n",
        "principalDf = pd.DataFrame(data = principalComponents, columns = ['principal component {}'.format(i+1) for i in range(n_components)])\n",
        "principalDf[cols[-1]]=train.iloc[:,-1:]\n",
        "train=principalDf\n",
        "\n",
        "scaler2,vals=normalize_attributes(range(len(train.columns))[:-1],train)\n",
        "train.iloc[:,:-1]=vals\n",
        "xtrain=train.iloc[:,:-1].values\n",
        "ytrain=train.iloc[:,-1].values"
      ],
      "metadata": {
        "id": "A6lR_2we8S9d",
        "colab": {
          "base_uri": "https://localhost:8080/"
        },
        "outputId": "7688a5c0-6d5f-434f-8cc7-ac61fef75a04"
      },
      "execution_count": 137,
      "outputs": [
        {
          "output_type": "stream",
          "name": "stdout",
          "text": [
            "0    81\n",
            "2    74\n",
            "1    36\n",
            "Name: Species, dtype: int64\n",
            "['Adelie Penguin (Pygoscelis adeliae)' 'Gentoo penguin (Pygoscelis papua)'\n",
            " 'Chinstrap penguin (Pygoscelis antarctica)']\n"
          ]
        }
      ]
    },
    {
      "cell_type": "code",
      "source": [
        "classes=le4.classes_\n",
        "labels=le4.transform(classes)\n",
        "allpairs=list(combinations(labels,2))\n",
        "\n",
        "def all_vs_all(train,classifier,xtest):\n",
        "  allpred=[]\n",
        "  for i in range(len(allpairs)):\n",
        "    newdf=train[(train.Species==allpairs[i][0]) | (train.Species==allpairs[i][1])]\n",
        "    x=newdf.iloc[:,:-1].values\n",
        "    y=newdf.iloc[:,-1:].values\n",
        "\n",
        "    model=svm.SVC(kernel=\"rbf\").fit(x, y)\n",
        "\n",
        "    if(classifier==\"SVM\"):\n",
        "      model=svm.SVC(kernel=\"rbf\").fit(x, y)\n",
        "    if(classifier==\"LogisticRegression\"):\n",
        "      model = LogisticRegression(random_state=0).fit(x, y)\n",
        "    if(classifier==\"RandomForest\"):\n",
        "      model=RandomForestClassifier(max_depth=4, random_state=0)\n",
        "    if(classifier==\"DecisionTree\"):\n",
        "      model=tree.DecisionTreeClassifier()\n",
        "    if(classifier==\"KNN\"):\n",
        "      model=KNeighborsClassifier(n_neighbors=3)\n",
        "\n",
        "    model.fit(x,y)\n",
        "    pred=model.predict(xtest)\n",
        "    allpred.append(pred)\n",
        "  return allpred"
      ],
      "metadata": {
        "id": "PMm-3L3sab9a"
      },
      "execution_count": 138,
      "outputs": []
    },
    {
      "cell_type": "markdown",
      "source": [
        "## ***Accuracies on testing data for different models***"
      ],
      "metadata": {
        "id": "I75tJDgBN6Hn"
      }
    },
    {
      "cell_type": "code",
      "source": [
        "test=pd.DataFrame(X_test,columns=cols[:-1])\n",
        "test.to_csv(\"sample_test.csv\")\n",
        "test=feature_engineering(test,le1,le2,le3,le4,scaler1,scaler2,pca,scaled)\n",
        "xtest=test.values\n",
        "ytest=le4.transform(y_test)\n",
        "diffmodels=[\"DecisionTree\",\"SVM\",\"RandomForest\",\"LogisticRegression\",\"KNN\"]\n",
        "for i in diffmodels:\n",
        "  allpred=all_vs_all(train,i,xtest)\n",
        "  allpred=all_vs_all(train,i,xtest)\n",
        "  allpred=all_vs_all(train,i,xtest)\n",
        "  allpred=all_vs_all(train,i,xtest)\n",
        "  allpred=all_vs_all(train,i,xtest)\n",
        "  preds=voting(allpred)\n",
        "  print(i,\"Accuracy : \",accuracy(preds,ytest))"
      ],
      "metadata": {
        "colab": {
          "base_uri": "https://localhost:8080/"
        },
        "id": "S-3isOYNIXlY",
        "outputId": "81b630c3-09d3-4606-d85e-00f5a5e85266"
      },
      "execution_count": 139,
      "outputs": [
        {
          "output_type": "stream",
          "name": "stdout",
          "text": [
            "DecisionTree Accuracy :  0.9512195121951219\n",
            "SVM Accuracy :  0.975609756097561\n",
            "RandomForest Accuracy :  0.975609756097561\n",
            "LogisticRegression Accuracy :  0.9634146341463414\n",
            "KNN Accuracy :  0.9512195121951219\n"
          ]
        }
      ]
    },
    {
      "cell_type": "markdown",
      "source": [
        "### ***Visualizations***"
      ],
      "metadata": {
        "id": "nFfUU34hORyM"
      }
    },
    {
      "cell_type": "code",
      "source": [
        "bestmodel=\"SVM\"\n",
        "allpred=[]\n",
        "allprobs=[[0 for i in range(len(le4.classes_))] for j in range(len(xtest))]\n",
        "for i in range(len(allpairs)):\n",
        "  newdf=train[(train.Species==allpairs[i][0]) | (train.Species==allpairs[i][1])]\n",
        "  x=newdf.iloc[:,:-1].values\n",
        "  y=newdf.iloc[:,-1:].values\n",
        "  model=svm.SVC(kernel=\"rbf\",probability=True).fit(x, y)\n",
        "  model.fit(x,y)\n",
        "  probs=model.predict_proba(xtest)\n",
        "  pred=model.predict(xtest)\n",
        "  allpred.append(pred)\n",
        "  for j in range(len(probs)):\n",
        "    allprobs[j][allpairs[i][0]]+=probs[j][0]\n",
        "    allprobs[j][allpairs[i][1]]+=probs[j][1]\n",
        "\n",
        "preds=voting(allpred)\n",
        "print(\"SVM\",\"Accuracy : \",accuracy(preds,ytest))\n",
        "  "
      ],
      "metadata": {
        "colab": {
          "base_uri": "https://localhost:8080/"
        },
        "id": "HwUsqeUBFGAU",
        "outputId": "41f675b9-3d46-4480-b5ba-094a61545767"
      },
      "execution_count": 140,
      "outputs": [
        {
          "output_type": "stream",
          "name": "stdout",
          "text": [
            "SVM Accuracy :  0.975609756097561\n"
          ]
        }
      ]
    },
    {
      "cell_type": "code",
      "source": [
        "ypred=le4.inverse_transform(preds)\n",
        "yact=le4.inverse_transform(ytest)\n",
        "cnf_matrix=confusion_matrix(ypred, yact,labels=le4.classes_)"
      ],
      "metadata": {
        "id": "X3j-DDeFOJ55"
      },
      "execution_count": 141,
      "outputs": []
    },
    {
      "cell_type": "code",
      "source": [
        "cnf=pd.DataFrame(cnf_matrix,columns=le4.classes_,index=le4.classes_)"
      ],
      "metadata": {
        "id": "Am68gz-v-Y_e"
      },
      "execution_count": 142,
      "outputs": []
    },
    {
      "cell_type": "code",
      "source": [
        "sns.heatmap(cnf, annot=True,cmap=\"RdBu_r\")"
      ],
      "metadata": {
        "colab": {
          "base_uri": "https://localhost:8080/",
          "height": 506
        },
        "id": "CJALtLy-_alZ",
        "outputId": "a1aa22fc-84ec-411c-f961-17f32b24062d"
      },
      "execution_count": 143,
      "outputs": [
        {
          "output_type": "execute_result",
          "data": {
            "text/plain": [
              "<matplotlib.axes._subplots.AxesSubplot at 0x7f5d2a215350>"
            ]
          },
          "metadata": {},
          "execution_count": 143
        },
        {
          "output_type": "display_data",
          "data": {
            "text/plain": [
              "<Figure size 432x288 with 2 Axes>"
            ],
            "image/png": "[encoded data removed]"
          },
          "metadata": {}
        }
      ]
    },
    {
      "cell_type": "code",
      "source": [
        "for i in range(len(allprobs)):\n",
        "  allprobs[i]=list(map(lambda x: x/(len(le4.classes_)),allprobs[i]))"
      ],
      "metadata": {
        "id": "RaYA14TcAd_V"
      },
      "execution_count": 144,
      "outputs": []
    },
    {
      "cell_type": "code",
      "source": [
        "allprobs=np.array(allprobs)\n",
        "allprobs"
      ],
      "metadata": {
        "id": "WaD4HEv7RMhd"
      },
      "execution_count": null,
      "outputs": []
    },
    {
      "cell_type": "code",
      "source": [
        "fpr = dict()\n",
        "tpr = dict()\n",
        "roc_auc = dict()\n",
        "y_label = label_binarize(ytest, classes=range(len(le4.classes_)))\n",
        "for i in range(len(le4.classes_)):\n",
        "  plt.title(\"Roc Curve for class {}\".format(le4.inverse_transform([i])))\n",
        "  fpr[i], tpr[i], _ = roc_curve(y_label[:, i], allprobs[:, i])\n",
        "  # print(fpr[i],tpr[i])\n",
        "  roc_auc[i] = auc(fpr[i], tpr[i])\n",
        "  plt.plot(fpr[i],tpr[i],label=\"ROC curve: (area = {})\".format(roc_auc[i]))\n",
        "  plt.plot([0, 1], [0, 1], 'k--')\n",
        "  plt.xlabel('False Positive Rate')\n",
        "  plt.ylabel('True Positive Rate')\n",
        "  plt.legend()\n",
        "  plt.show()\n",
        "  print()"
      ],
      "metadata": {
        "colab": {
          "base_uri": "https://localhost:8080/",
          "height": 924
        },
        "id": "meNEBL_6O_f6",
        "outputId": "75a6ab2f-c113-4c0b-8b5a-f9e424414848"
      },
      "execution_count": 147,
      "outputs": [
        {
          "output_type": "display_data",
          "data": {
            "text/plain": [
              "<Figure size 432x288 with 1 Axes>"
            ],
            "image/png": "[encoded data removed]"
          },
          "metadata": {}
        },
        {
          "output_type": "stream",
          "name": "stdout",
          "text": [
            "\n"
          ]
        },
        {
          "output_type": "display_data",
          "data": {
            "text/plain": [
              "<Figure size 432x288 with 1 Axes>"
            ],
            "image/png": "[encoded data removed]"
          },
          "metadata": {}
        },
        {
          "output_type": "stream",
          "name": "stdout",
          "text": [
            "\n"
          ]
        },
        {
          "output_type": "display_data",
          "data": {
            "text/plain": [
              "<Figure size 432x288 with 1 Axes>"
            ],
            "image/png": "[encoded data removed]"
          },
          "metadata": {}
        },
        {
          "output_type": "stream",
          "name": "stdout",
          "text": [
            "\n"
          ]
        }
      ]
    },
    {
      "cell_type": "code",
      "source": [
        "clf = OneVsOneClassifier(svm.SVC(kernel='linear', probability=True,\n",
        "                                 random_state=0)).fit(train.iloc[:,:-1], train.iloc[:,-1:])\n",
        "predictions=clf.predict(xtest)\n",
        "report=pd.DataFrame(classification_report(predictions,ytest,output_dict=True)).T\n",
        "report=report.style.background_gradient(cmap=\"RdBu_r\",\n",
        "                             subset=pd.IndexSlice['0':'9', :'f1-score'])\n",
        "\n",
        "report"
      ],
      "metadata": {
        "colab": {
          "base_uri": "https://localhost:8080/",
          "height": 237
        },
        "id": "YZy3vlfZBsHm",
        "outputId": "f7146691-903a-4689-9681-ecf4bd7bb1c1"
      },
      "execution_count": 148,
      "outputs": [
        {
          "output_type": "execute_result",
          "data": {
            "text/plain": [
              "<pandas.io.formats.style.Styler at 0x7f5d29855b10>"
            ],
            "text/html": [
              "<style type=\"text/css\">\n",
              "#T_e3395_row0_col0, #T_e3395_row1_col1, #T_e3395_row1_col2 {\n",
              "  background-color: #053061;\n",
              "  color: #f1f1f1;\n",
              "}\n",
              "#T_e3395_row0_col1, #T_e3395_row1_col0, #T_e3395_row2_col0, #T_e3395_row2_col1, #T_e3395_row2_col2 {\n",
              "  background-color: #67001f;\n",
              "  color: #f1f1f1;\n",
              "}\n",
              "#T_e3395_row0_col2 {\n",
              "  background-color: #d5e7f1;\n",
              "  color: #000000;\n",
              "}\n",
              "</style>\n",
              "<table id=\"T_e3395_\" class=\"dataframe\">\n",
              "  <thead>\n",
              "    <tr>\n",
              "      <th class=\"blank level0\" >&nbsp;</th>\n",
              "      <th class=\"col_heading level0 col0\" >precision</th>\n",
              "      <th class=\"col_heading level0 col1\" >recall</th>\n",
              "      <th class=\"col_heading level0 col2\" >f1-score</th>\n",
              "      <th class=\"col_heading level0 col3\" >support</th>\n",
              "    </tr>\n",
              "  </thead>\n",
              "  <tbody>\n",
              "    <tr>\n",
              "      <th id=\"T_e3395_level0_row0\" class=\"row_heading level0 row0\" >0</th>\n",
              "      <td id=\"T_e3395_row0_col0\" class=\"data row0 col0\" >0.950000</td>\n",
              "      <td id=\"T_e3395_row0_col1\" class=\"data row0 col1\" >1.000000</td>\n",
              "      <td id=\"T_e3395_row0_col2\" class=\"data row0 col2\" >0.974359</td>\n",
              "      <td id=\"T_e3395_row0_col3\" class=\"data row0 col3\" >38.000000</td>\n",
              "    </tr>\n",
              "    <tr>\n",
              "      <th id=\"T_e3395_level0_row1\" class=\"row_heading level0 row1\" >1</th>\n",
              "      <td id=\"T_e3395_row1_col0\" class=\"data row1 col0\" >1.000000</td>\n",
              "      <td id=\"T_e3395_row1_col1\" class=\"data row1 col1\" >0.916667</td>\n",
              "      <td id=\"T_e3395_row1_col2\" class=\"data row1 col2\" >0.956522</td>\n",
              "      <td id=\"T_e3395_row1_col3\" class=\"data row1 col3\" >24.000000</td>\n",
              "    </tr>\n",
              "    <tr>\n",
              "      <th id=\"T_e3395_level0_row2\" class=\"row_heading level0 row2\" >2</th>\n",
              "      <td id=\"T_e3395_row2_col0\" class=\"data row2 col0\" >1.000000</td>\n",
              "      <td id=\"T_e3395_row2_col1\" class=\"data row2 col1\" >1.000000</td>\n",
              "      <td id=\"T_e3395_row2_col2\" class=\"data row2 col2\" >1.000000</td>\n",
              "      <td id=\"T_e3395_row2_col3\" class=\"data row2 col3\" >20.000000</td>\n",
              "    </tr>\n",
              "    <tr>\n",
              "      <th id=\"T_e3395_level0_row3\" class=\"row_heading level0 row3\" >accuracy</th>\n",
              "      <td id=\"T_e3395_row3_col0\" class=\"data row3 col0\" >0.975610</td>\n",
              "      <td id=\"T_e3395_row3_col1\" class=\"data row3 col1\" >0.975610</td>\n",
              "      <td id=\"T_e3395_row3_col2\" class=\"data row3 col2\" >0.975610</td>\n",
              "      <td id=\"T_e3395_row3_col3\" class=\"data row3 col3\" >0.975610</td>\n",
              "    </tr>\n",
              "    <tr>\n",
              "      <th id=\"T_e3395_level0_row4\" class=\"row_heading level0 row4\" >macro avg</th>\n",
              "      <td id=\"T_e3395_row4_col0\" class=\"data row4 col0\" >0.983333</td>\n",
              "      <td id=\"T_e3395_row4_col1\" class=\"data row4 col1\" >0.972222</td>\n",
              "      <td id=\"T_e3395_row4_col2\" class=\"data row4 col2\" >0.976960</td>\n",
              "      <td id=\"T_e3395_row4_col3\" class=\"data row4 col3\" >82.000000</td>\n",
              "    </tr>\n",
              "    <tr>\n",
              "      <th id=\"T_e3395_level0_row5\" class=\"row_heading level0 row5\" >weighted avg</th>\n",
              "      <td id=\"T_e3395_row5_col0\" class=\"data row5 col0\" >0.976829</td>\n",
              "      <td id=\"T_e3395_row5_col1\" class=\"data row5 col1\" >0.975610</td>\n",
              "      <td id=\"T_e3395_row5_col2\" class=\"data row5 col2\" >0.975392</td>\n",
              "      <td id=\"T_e3395_row5_col3\" class=\"data row5 col3\" >82.000000</td>\n",
              "    </tr>\n",
              "  </tbody>\n",
              "</table>\n"
            ]
          },
          "metadata": {},
          "execution_count": 148
        }
      ]
    },
    {
      "cell_type": "markdown",
      "source": [
        "## **Rough work (no need to run)**"
      ],
      "metadata": {
        "id": "rt5TwfliWh1v"
      }
    },
    {
      "cell_type": "code",
      "source": [
        "df=pd.read_csv(\"penguins_train.csv\")\n",
        "from sklearn.utils import shuffle\n",
        "df = shuffle(df)\n",
        "df.reset_index(inplace=True, drop=True)\n",
        "X_train, X_test, y_train, y_test = train_test_split(df.iloc[:,:-1].values,df.iloc[:,-1:].values,test_size=0.3,random_state=1)\n",
        "sampletrain=pd.DataFrame(X_train,columns=cols[:-1])\n",
        "sampletrain[cols[-1]]=y_train\n",
        "sampletrain.set_index(cols[0],inplace=True)\n",
        "sampletrain.to_csv(\"sample_train.csv\")\n",
        "\n",
        "sampletest=pd.DataFrame(X_test,columns=cols[:-1])\n",
        "sampletest.set_index(cols[0],inplace=True)\n",
        "sampletest.to_csv(\"sample_test.csv\")"
      ],
      "metadata": {
        "id": "3I5LXj0eT1vt"
      },
      "execution_count": 14,
      "outputs": []
    },
    {
      "cell_type": "code",
      "source": [
        "results=y_test\n",
        "sampleres=pd.DataFrame(y_test,columns=cols[-1:])\n",
        "sampleres.to_csv(\"sample_result.csv\")\n"
      ],
      "metadata": {
        "id": "vdLaaCS4VDnY"
      },
      "execution_count": null,
      "outputs": []
    },
    {
      "cell_type": "code",
      "source": [
        "# ## Source sklearn\n",
        "# def plot_roc_curve(y_test, y_pred):\n",
        "#      n_classes = len(np.unique(y_test))\n",
        "#      print(n_classes)\n",
        "#      y_test = label_binarize(y_test, classes=np.arange(3))\n",
        "\n",
        "#      # Compute ROC curve and ROC area for each class\n",
        "#      fpr = dict()\n",
        "#      tpr = dict()\n",
        "#      roc_auc = dict()\n",
        "#      thresholds = dict()\n",
        "#      for i in range(n_classes):\n",
        "#        fpr[i], tpr[i], thresholds[i] = roc_curve(y_test[:, i], y_pred[:, i], drop_intermediate=False)\n",
        "#      roc_auc[i] = auc(fpr[i], tpr[i])\n",
        "\n",
        "#      # Compute micro-average ROC curve and ROC area\n",
        "#      fpr[\"micro\"], tpr[\"micro\"], _ = roc_curve(y_test.ravel(), y_pred.ravel())\n",
        "#      roc_auc[\"micro\"] = auc(fpr[\"micro\"], tpr[\"micro\"])\n",
        "\n",
        "#      # First aggregate all false positive rates\n",
        "#      all_fpr = np.unique(np.concatenate([fpr[i] for i in range(n_classes)]))\n",
        "\n",
        "#      # Then interpolate all ROC curves at this points\n",
        "#      mean_tpr = np.zeros_like(all_fpr)\n",
        "#      for i in range(n_classes):\n",
        "#        mean_tpr += np.interp(all_fpr, fpr[i], tpr[i])\n",
        "\n",
        "#      # Finally average it and compute AUC\n",
        "#      mean_tpr /= n_classes\n",
        "\n",
        "#      fpr[\"macro\"] = all_fpr\n",
        "#      tpr[\"macro\"] = mean_tpr\n",
        "#      roc_auc[\"macro\"] = auc(fpr[\"macro\"], tpr[\"macro\"])\n",
        "\n",
        "#      # Plot all ROC curves\n",
        "#      #plt.figure(figsize=(10,5))\n",
        "#     #  plt.figure(dpi=600)\n",
        "#      lw = 2\n",
        "#      plt.plot(fpr[\"micro\"], tpr[\"micro\"],\n",
        "#      label=\"micro-average ROC curve (area = {0:0.2f})\".format(roc_auc[\"micro\"]),\n",
        "#      color=\"deeppink\", linestyle=\":\", linewidth=4,)\n",
        "\n",
        "#      plt.plot(fpr[\"macro\"], tpr[\"macro\"],\n",
        "#      label=\"macro-average ROC curve (area = {0:0.2f})\".format(roc_auc[\"macro\"]),\n",
        "#      color=\"navy\", linestyle=\":\", linewidth=4,)\n",
        "\n",
        "#      colors = cycle([\"aqua\", \"darkorange\", \"darkgreen\", \"yellow\", \"blue\"])\n",
        "#      for i, color in zip(range(n_classes), colors):\n",
        "#        plt.plot(fpr[i], tpr[i], color=color, lw=lw,)\n",
        "#       #  label=\"ROC curve of class {0} (area = {1:0.2f})\".format(i, roc_auc[i]),)\n",
        "\n",
        "#      plt.plot([0, 1], [0, 1], \"k--\", lw=lw)\n",
        "#      plt.xlim([0.0, 1.0])\n",
        "#      plt.ylim([0.0, 1.05])\n",
        "#      plt.xlabel(\"False Positive Rate\")\n",
        "#      plt.ylabel(\"True Positive Rate\")\n",
        "#      plt.title(\"Receiver Operating Characteristic (ROC) curve\")\n",
        "#      plt.legend()\n",
        "#plot_roc_curve(ytest,clf.decision_function(xtest))"
      ],
      "metadata": {
        "id": "ntVOjNXfe6k6"
      },
      "execution_count": null,
      "outputs": []
    }
  ]
}